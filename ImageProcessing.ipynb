{
 "cells": [
  {
   "cell_type": "code",
   "execution_count": null,
   "metadata": {},
   "outputs": [],
   "source": [
    "import numpy as np # This is the main numerical library we will use\n",
    "import matplotlib.pyplot as plt # This is the main plotting library we will use\n",
    "import skimage # A library for doing some extra stuff with image processing"
   ]
  },
  {
   "cell_type": "markdown",
   "metadata": {},
   "source": [
    "## 2D Arrays\n"
   ]
  },
  {
   "cell_type": "code",
   "execution_count": null,
   "metadata": {},
   "outputs": [],
   "source": [
    "# Show list of lists, np.zeros with tuple\n",
    "x = [[0, 0, 1, 0], [2, 4, -2, 1], [0, 0, 1, 0], [-1, 1, 5, 2], \"chris\"]\n",
    "print(x[1])"
   ]
  },
  {
   "cell_type": "code",
   "execution_count": null,
   "metadata": {},
   "outputs": [],
   "source": [
    "(x[1])[2] = 17\n",
    "print(x)"
   ]
  },
  {
   "cell_type": "code",
   "execution_count": null,
   "metadata": {},
   "outputs": [],
   "source": [
    "x[1] = 1\n",
    "print(x)"
   ]
  },
  {
   "cell_type": "code",
   "execution_count": null,
   "metadata": {},
   "outputs": [],
   "source": [
    "x = np.zeros((4, 4))\n",
    "x[1][2] = 17\n",
    "print(x)"
   ]
  },
  {
   "cell_type": "code",
   "execution_count": null,
   "metadata": {},
   "outputs": [],
   "source": [
    "# Show variable assignment to 2D numpy arrays and imshow/colorbar"
   ]
  },
  {
   "cell_type": "code",
   "execution_count": null,
   "metadata": {},
   "outputs": [],
   "source": [
    "# Show slicing with 2D arrays: make boxes, stripes, and grids"
   ]
  },
  {
   "cell_type": "code",
   "execution_count": null,
   "metadata": {},
   "outputs": [],
   "source": [
    "# Show meshgrid command, use to make a circle and a blob"
   ]
  },
  {
   "cell_type": "code",
   "execution_count": null,
   "metadata": {},
   "outputs": [],
   "source": [
    "# Show flatten"
   ]
  },
  {
   "cell_type": "markdown",
   "metadata": {},
   "source": [
    "## RGB Images / Aliasing"
   ]
  },
  {
   "cell_type": "code",
   "execution_count": null,
   "metadata": {},
   "outputs": [],
   "source": [
    "# Load in image, show shape command\n",
    "X = skimage.io.imread(\"mandrill.png\")\n",
    "plt.imshow(X)"
   ]
  },
  {
   "cell_type": "code",
   "execution_count": null,
   "metadata": {},
   "outputs": [],
   "source": [
    "# Talk about RGB, zero out all but one channel"
   ]
  },
  {
   "cell_type": "code",
   "execution_count": null,
   "metadata": {},
   "outputs": [],
   "source": [
    "## Class exercise: Put a red box over the mandrill's left eye"
   ]
  },
  {
   "cell_type": "code",
   "execution_count": null,
   "metadata": {},
   "outputs": [],
   "source": [
    "# Use 0.2125R + 0.7154G + 0.0721B to convert to grayscale"
   ]
  },
  {
   "cell_type": "code",
   "execution_count": null,
   "metadata": {},
   "outputs": [],
   "source": [
    "# Show flatten and histogram of grayscale values"
   ]
  },
  {
   "cell_type": "code",
   "execution_count": null,
   "metadata": {},
   "outputs": [],
   "source": [
    "# What will this command do?\n",
    "Y = X[::-1, :, :]"
   ]
  },
  {
   "cell_type": "code",
   "execution_count": null,
   "metadata": {},
   "outputs": [],
   "source": [
    "# What will this command do?\n",
    "Y = X[0::2, 0::2, :]\n",
    "plt.imshow(Y)"
   ]
  },
  {
   "cell_type": "code",
   "execution_count": null,
   "metadata": {},
   "outputs": [],
   "source": [
    "# Show aliasing\n",
    "X = skimage.io.imread(\"hand-tattoos-hold-man.jpg\")\n",
    "fac = 6\n",
    "Y = X[0::fac, 0::fac, :]\n",
    "\n",
    "plt.figure(figsize=(8, 12))\n",
    "plt.subplot(2, 1, 1)\n",
    "plt.imshow(X)\n",
    "plt.title(\"Original Image\")\n",
    "plt.subplot(2, 1, 2)\n",
    "plt.imshow(Y)"
   ]
  },
  {
   "cell_type": "code",
   "execution_count": null,
   "metadata": {},
   "outputs": [],
   "source": [
    "# Show aliasing / Moire pattern\n",
    "X = skimage.io.imread(\"Stripes.jpg\")\n",
    "fac = 20\n",
    "Y = X[0::fac, 0::fac, :]\n",
    "\n",
    "plt.figure(figsize=(8, 12))\n",
    "plt.subplot(2, 1, 1)\n",
    "plt.imshow(X)\n",
    "plt.title(\"Original Image\")\n",
    "plt.subplot(2, 1, 2)\n",
    "plt.imshow(Y)"
   ]
  },
  {
   "cell_type": "markdown",
   "metadata": {},
   "source": [
    "## Quantization / Dithering"
   ]
  },
  {
   "cell_type": "code",
   "execution_count": null,
   "metadata": {},
   "outputs": [],
   "source": [
    "X = skimage.io.imread(\"CeliaDarcy.png\")\n",
    "X = 0.2125*X[:, :, 0] + 0.7154*X[:, :, 1] + 0.0721*X[:, :, 2]\n",
    "plt.figure(figsize=(6, 10))\n",
    "plt.imshow(X, cmap='gray')"
   ]
  },
  {
   "cell_type": "code",
   "execution_count": null,
   "metadata": {},
   "outputs": [],
   "source": [
    "Y = 255*np.round(X/255)\n",
    "plt.figure(figsize=(6, 10))\n",
    "plt.imshow(Y, cmap='gray')"
   ]
  },
  {
   "cell_type": "code",
   "execution_count": null,
   "metadata": {},
   "outputs": [],
   "source": [
    "fac = 0.25\n",
    "Y = (1-fac)*X + (255*fac)*np.random.rand(X.shape[0], X.shape[1])\n",
    "Z = 255*np.round(Y/255)\n",
    "plt.figure(figsize=(10, 14))\n",
    "plt.subplot(2, 2, 1)\n",
    "plt.imshow(X, cmap='gray')\n",
    "plt.subplot(2, 2, 2)\n",
    "plt.imshow(255*np.round(X/255), cmap='gray')\n",
    "plt.subplot(2, 2, 3)\n",
    "plt.imshow(Y, cmap='gray')\n",
    "plt.subplot(2, 2, 4)\n",
    "plt.imshow(Z, cmap='gray')"
   ]
  },
  {
   "cell_type": "code",
   "execution_count": null,
   "metadata": {},
   "outputs": [],
   "source": []
  }
 ],
 "metadata": {
  "kernelspec": {
   "display_name": "Python 3",
   "language": "python",
   "name": "python3"
  },
  "language_info": {
   "codemirror_mode": {
    "name": "ipython",
    "version": 3
   },
   "file_extension": ".py",
   "mimetype": "text/x-python",
   "name": "python",
   "nbconvert_exporter": "python",
   "pygments_lexer": "ipython3",
   "version": "3.7.6"
  }
 },
 "nbformat": 4,
 "nbformat_minor": 2
}
