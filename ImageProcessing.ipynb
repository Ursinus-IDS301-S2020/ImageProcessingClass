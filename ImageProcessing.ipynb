{
 "cells": [
  {
   "cell_type": "code",
   "execution_count": null,
   "metadata": {},
   "outputs": [],
   "source": [
    "import numpy as np # This is the main numerical library we will use\n",
    "import matplotlib.pyplot as plt # This is the main plotting library we will use\n",
    "import skimage # A library for doing some extra stuff with image processing"
   ]
  },
  {
   "cell_type": "markdown",
   "metadata": {},
   "source": [
    "## 2D Arrays\n"
   ]
  },
  {
   "cell_type": "code",
   "execution_count": null,
   "metadata": {},
   "outputs": [],
   "source": [
    "# Show list of lists, np.zeros with tuple"
   ]
  },
  {
   "cell_type": "code",
   "execution_count": null,
   "metadata": {},
   "outputs": [],
   "source": [
    "# Show variable assignment to 2D numpy arrays and imshow/colorbar"
   ]
  },
  {
   "cell_type": "code",
   "execution_count": null,
   "metadata": {},
   "outputs": [],
   "source": [
    "# Show slicing with 2D arrays: make boxes, stripes, and grids"
   ]
  },
  {
   "cell_type": "code",
   "execution_count": null,
   "metadata": {},
   "outputs": [],
   "source": [
    "# Show meshgrid command, use to make a circle and a blob"
   ]
  },
  {
   "cell_type": "code",
   "execution_count": null,
   "metadata": {},
   "outputs": [],
   "source": []
  },
  {
   "cell_type": "markdown",
   "metadata": {},
   "source": [
    "## RGB Images / Aliasing"
   ]
  },
  {
   "cell_type": "code",
   "execution_count": null,
   "metadata": {},
   "outputs": [],
   "source": [
    "# Load in image, show shape command\n",
    "X = skimage.io.imread(\"mandrill.png\")\n",
    "plt.imshow(X)"
   ]
  },
  {
   "cell_type": "code",
   "execution_count": null,
   "metadata": {},
   "outputs": [],
   "source": [
    "# Talk about RGB, zero out all but one channel"
   ]
  },
  {
   "cell_type": "code",
   "execution_count": null,
   "metadata": {},
   "outputs": [],
   "source": [
    "## Class exercise: Put a red box over the mandrill's left eye"
   ]
  },
  {
   "cell_type": "code",
   "execution_count": null,
   "metadata": {},
   "outputs": [],
   "source": [
    "# Use 0.2125R + 0.7154G + 0.0721B to convert to grayscale"
   ]
  },
  {
   "cell_type": "code",
   "execution_count": null,
   "metadata": {},
   "outputs": [],
   "source": [
    "# What will this command do?\n",
    "Y = X[::-1, :, :]"
   ]
  },
  {
   "cell_type": "code",
   "execution_count": null,
   "metadata": {},
   "outputs": [],
   "source": [
    "# What will this command do?\n",
    "Y = X[0::2, 0::2, :]\n",
    "plt.imshow(Y)"
   ]
  },
  {
   "cell_type": "code",
   "execution_count": null,
   "metadata": {},
   "outputs": [],
   "source": [
    "# Show aliasing\n",
    "X = skimage.io.imread(\"hand-tattoos-hold-man.jpg\")\n",
    "fac = 6\n",
    "Y = X[0::fac, 0::fac, :]\n",
    "\n",
    "plt.figure(figsize=(8, 12))\n",
    "plt.subplot(2, 1, 1)\n",
    "plt.imshow(X)\n",
    "plt.title(\"Original Image\")\n",
    "plt.subplot(2, 1, 2)\n",
    "plt.imshow(Y)"
   ]
  },
  {
   "cell_type": "code",
   "execution_count": null,
   "metadata": {},
   "outputs": [],
   "source": [
    "# Show aliasing / Moire pattern\n",
    "X = skimage.io.imread(\"Stripes.jpg\")\n",
    "fac = 20\n",
    "Y = X[0::fac, 0::fac, :]\n",
    "\n",
    "plt.figure(figsize=(8, 12))\n",
    "plt.subplot(2, 1, 1)\n",
    "plt.imshow(X)\n",
    "plt.title(\"Original Image\")\n",
    "plt.subplot(2, 1, 2)\n",
    "plt.imshow(Y)"
   ]
  },
  {
   "cell_type": "markdown",
   "metadata": {},
   "source": [
    "## Quantization / Dithering"
   ]
  },
  {
   "cell_type": "code",
   "execution_count": null,
   "metadata": {},
   "outputs": [],
   "source": []
  }
 ],
 "metadata": {
  "kernelspec": {
   "display_name": "Python 3",
   "language": "python",
   "name": "python3"
  },
  "language_info": {
   "codemirror_mode": {
    "name": "ipython",
    "version": 3
   },
   "file_extension": ".py",
   "mimetype": "text/x-python",
   "name": "python",
   "nbconvert_exporter": "python",
   "pygments_lexer": "ipython3",
   "version": "3.7.6"
  }
 },
 "nbformat": 4,
 "nbformat_minor": 2
}
